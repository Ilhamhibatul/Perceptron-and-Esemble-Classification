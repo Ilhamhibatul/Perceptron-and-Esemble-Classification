{
  "nbformat": 4,
  "nbformat_minor": 0,
  "metadata": {
    "colab": {
      "provenance": []
    },
    "kernelspec": {
      "name": "python3",
      "display_name": "Python 3"
    },
    "language_info": {
      "name": "python"
    }
  },
  "cells": [
    {
      "cell_type": "markdown",
      "source": [
        "# Modul 7\n",
        "Perceptron dan ensemble classification"
      ],
      "metadata": {
        "id": "diPzTTdf7HN-"
      }
    },
    {
      "cell_type": "markdown",
      "source": [
        "tugas 1\n",
        "1. ulangi proses klasifikasi menggunakan perceptron pada dataset wine dan breastcancer.\n",
        "Masing masing gunakan perbandingan 0.2, 0.3, 0.4. tuliskan akurasinya\n",
        "2. ulangi proses klasifikasi menggunakan bagging dengan base classifier perceptron pada\n",
        "dataset wine dan breastcancer. Gunakan perbandingan test set 0,3. Masing masing gunakan\n",
        "perbandingan n_estmators = 100, 200, dan 300. tuliskan akurasinya"
      ],
      "metadata": {
        "id": "bPgZj00I7Ot6"
      }
    },
    {
      "cell_type": "code",
      "source": [
        "from sklearn import datasets\n",
        "from sklearn.preprocessing import StandardScaler\n",
        "from sklearn.linear_model import Perceptron\n",
        "from sklearn.model_selection import train_test_split\n",
        "from sklearn.metrics import accuracy_score\n",
        "import numpy as np\n",
        "import pandas as pd\n",
        "from sklearn.ensemble import BaggingClassifier"
      ],
      "metadata": {
        "id": "836dN1_37N-E"
      },
      "execution_count": null,
      "outputs": []
    },
    {
      "cell_type": "markdown",
      "source": [
        "Import library yang dibutuhkan"
      ],
      "metadata": {
        "id": "R-I4IliV8kHU"
      }
    },
    {
      "cell_type": "markdown",
      "source": [
        "WINE DATASET"
      ],
      "metadata": {
        "id": "sgFLfM9N8zL0"
      }
    },
    {
      "cell_type": "code",
      "source": [
        "wine = datasets.load_wine()\n",
        "wine_df = pd.DataFrame(wine.data)\n",
        "\n",
        "print(\"Dataset : \\n\", wine_df.head())"
      ],
      "metadata": {
        "colab": {
          "base_uri": "https://localhost:8080/"
        },
        "id": "nU23cTRU8qrr",
        "outputId": "5d58e038-1fd9-4e66-955a-d0f126dcaba0"
      },
      "execution_count": null,
      "outputs": [
        {
          "output_type": "stream",
          "name": "stdout",
          "text": [
            "Dataset : \n",
            "       0     1     2     3      4     5     6     7     8     9     10    11  \\\n",
            "0  14.23  1.71  2.43  15.6  127.0  2.80  3.06  0.28  2.29  5.64  1.04  3.92   \n",
            "1  13.20  1.78  2.14  11.2  100.0  2.65  2.76  0.26  1.28  4.38  1.05  3.40   \n",
            "2  13.16  2.36  2.67  18.6  101.0  2.80  3.24  0.30  2.81  5.68  1.03  3.17   \n",
            "3  14.37  1.95  2.50  16.8  113.0  3.85  3.49  0.24  2.18  7.80  0.86  3.45   \n",
            "4  13.24  2.59  2.87  21.0  118.0  2.80  2.69  0.39  1.82  4.32  1.04  2.93   \n",
            "\n",
            "       12  \n",
            "0  1065.0  \n",
            "1  1050.0  \n",
            "2  1185.0  \n",
            "3  1480.0  \n",
            "4   735.0  \n"
          ]
        }
      ]
    },
    {
      "cell_type": "markdown",
      "source": [
        "Untuk menggunakan dataset wine, kita memanggilnya menggunakan load_wine dan ditampung dalam variabel wine. "
      ],
      "metadata": {
        "id": "BQ7Hk5mm9LPj"
      }
    },
    {
      "cell_type": "markdown",
      "source": [
        "Pre processing"
      ],
      "metadata": {
        "id": "Smx_lC1O9dQM"
      }
    },
    {
      "cell_type": "code",
      "source": [
        "wine_df.isnull().sum().sum()"
      ],
      "metadata": {
        "colab": {
          "base_uri": "https://localhost:8080/"
        },
        "id": "yP6gjPg29fDa",
        "outputId": "687b59b8-5e7b-4a97-a1e3-89edf6f7c36d"
      },
      "execution_count": null,
      "outputs": [
        {
          "output_type": "execute_result",
          "data": {
            "text/plain": [
              "0"
            ]
          },
          "metadata": {},
          "execution_count": 10
        }
      ]
    },
    {
      "cell_type": "markdown",
      "source": [
        "cek apakah dataset wine bersifat null atau tidak. Dan hasilnya adalah 0 artinya tidak ada data yang bersifat null."
      ],
      "metadata": {
        "id": "lBbEdlIh9m58"
      }
    },
    {
      "cell_type": "code",
      "source": [
        "wine_df.duplicated().sum()"
      ],
      "metadata": {
        "colab": {
          "base_uri": "https://localhost:8080/"
        },
        "id": "RhI6zTMP9zjz",
        "outputId": "16bb3c1c-73fe-41e0-d506-11da6ae04675"
      },
      "execution_count": null,
      "outputs": [
        {
          "output_type": "execute_result",
          "data": {
            "text/plain": [
              "0"
            ]
          },
          "metadata": {},
          "execution_count": 11
        }
      ]
    },
    {
      "cell_type": "markdown",
      "source": [
        "cek apakah dataset wine ada yang diduplikat atau tidak. Hasilnya adalah 0 yang berarti data tidak ada yang diduplikat."
      ],
      "metadata": {
        "id": "O4Z7SVn8955D"
      }
    },
    {
      "cell_type": "code",
      "source": [
        "x = wine.data\n",
        "y = wine.target "
      ],
      "metadata": {
        "id": "KpGOXKGc-DZr"
      },
      "execution_count": null,
      "outputs": []
    },
    {
      "cell_type": "markdown",
      "source": [
        "Definisikan variabel x dan y. variabel x didapatkan dari wine.data. Dan variabel y didapat dari wine.target"
      ],
      "metadata": {
        "id": "S9D6cNFD-Lb8"
      }
    },
    {
      "cell_type": "code",
      "source": [
        "y[:5]\n",
        "x[:5]\n",
        "\n",
        "x_train1, x_test1, y_train1, y_test1 = train_test_split(x,y, test_size=0.2, random_state=0)\n",
        "x_train2, x_test2, y_train2, y_test2 = train_test_split(x,y, test_size=0.3, random_state=0)\n",
        "x_train3, x_test3, y_train3, y_test3 = train_test_split(x,y, test_size=0.4, random_state=0)"
      ],
      "metadata": {
        "id": "IOehUrIu-XM7"
      },
      "execution_count": null,
      "outputs": []
    },
    {
      "cell_type": "markdown",
      "source": [
        "Data pada variabel x dan y, diambil  sample datanya. Kemudian definisikan nilai dari x train, x test, y traindan y testnya. Sesuaikan perbandingannya pada test_size sesuai dengan soal yaitu 0.2, 0.3, 0.4."
      ],
      "metadata": {
        "id": "vH8ZEoOT_gZj"
      }
    },
    {
      "cell_type": "code",
      "source": [
        "sc = StandardScaler()\n",
        "\n",
        "sc.fit(x_train1)\n",
        "x_train_std1 = sc.transform(x_train1)\n",
        "x_test_std1 = sc.transform(x_test1)\n",
        "\n",
        "sc.fit(x_train2)\n",
        "x_train_std2 = sc.transform(x_train2)\n",
        "x_test_std2 = sc.transform(x_test2)\n",
        "\n",
        "sc.fit(x_train3)\n",
        "x_train_std3 = sc.transform(x_train3)\n",
        "x_test_std3 = sc.transform(x_test3)"
      ],
      "metadata": {
        "id": "fw8qofST_-jq"
      },
      "execution_count": null,
      "outputs": []
    },
    {
      "cell_type": "markdown",
      "source": [
        "Standard scaler ditampung pada variabel sc. Untuk mendapatkan nilai standard scaler pada x train dan x test kita bisa menggunakan sc.transform lalu masukkan variabel x train/xtestnya sesuai dengan perbandingan yang kita mau. "
      ],
      "metadata": {
        "id": "PfKIooNqAsws"
      }
    },
    {
      "cell_type": "code",
      "source": [
        "ppn = Perceptron(eta0 = 0.1, random_state = 0)\n",
        "\n",
        "ppn.fit(x_train_std1, y_train1)\n",
        "y_pred1 = ppn.predict(x_test_std1)\n",
        "print('Accuracy test 0.2 : %.2f' % accuracy_score (y_test1, y_pred1))\n",
        "\n",
        "ppn.fit(x_train_std2, y_train2)\n",
        "y_pred2 = ppn.predict(x_test_std2)\n",
        "print('Accuracy test 0.3 : %.2f' % accuracy_score (y_test2, y_pred2))\n",
        "\n",
        "ppn.fit(x_train_std3, y_train3)\n",
        "y_pred3 = ppn.predict(x_test_std3)\n",
        "print('Accuracy test 0.4 : %.2f' % accuracy_score (y_test3, y_pred3))"
      ],
      "metadata": {
        "colab": {
          "base_uri": "https://localhost:8080/"
        },
        "id": "FPOdFKBJBIjb",
        "outputId": "4b76f58e-30fe-443d-af52-6a8777e9ee23"
      },
      "execution_count": null,
      "outputs": [
        {
          "output_type": "stream",
          "name": "stdout",
          "text": [
            "Accuracy test 0.2 : 0.97\n",
            "Accuracy test 0.3 : 1.00\n",
            "Accuracy test 0.4 : 0.94\n"
          ]
        }
      ]
    },
    {
      "cell_type": "markdown",
      "source": [
        "Lalu untuk perceptron akan ditampung dalam variabel ppn. Lalu untuk mendapatkan predictionnya bisa memakai .predict dengan memasukkan x test std sesuai dengan perbandingan yang diinginkan. Untuk mendapatkan nilai prediksinya kita memakai variabel y test dan y pred sesuai dengan perbandingan yang digunakan. \n",
        "Setelah itu, saya mencoba untuk membandingkan, jika saya memakai sample data dan menggunakan semua data, hasilnya untuk test akurasinya, hasil yang dikeluarkan sama, yaitu untuk test akurasi 0.2 = 0.97, untuk test akurasi 0.3 = 1.00, untuk test akurasi 0.3 = 0.94."
      ],
      "metadata": {
        "id": "6rkoNb77Cjej"
      }
    },
    {
      "cell_type": "markdown",
      "source": [
        "BREAST CANCER DATASET"
      ],
      "metadata": {
        "id": "myoHeElMDY6D"
      }
    },
    {
      "cell_type": "code",
      "source": [
        "breast_cancer = datasets.load_breast_cancer()\n",
        "breast_cancer_df = pd.DataFrame(breast_cancer.data)\n",
        "\n",
        "print(\"Dataset : \\n\", breast_cancer_df.head())"
      ],
      "metadata": {
        "colab": {
          "base_uri": "https://localhost:8080/"
        },
        "id": "jOOpM5lBDcla",
        "outputId": "2e712663-612b-4042-8690-4348326be1d7"
      },
      "execution_count": null,
      "outputs": [
        {
          "output_type": "stream",
          "name": "stdout",
          "text": [
            "Dataset : \n",
            "       0      1       2       3        4        5       6        7       8   \\\n",
            "0  17.99  10.38  122.80  1001.0  0.11840  0.27760  0.3001  0.14710  0.2419   \n",
            "1  20.57  17.77  132.90  1326.0  0.08474  0.07864  0.0869  0.07017  0.1812   \n",
            "2  19.69  21.25  130.00  1203.0  0.10960  0.15990  0.1974  0.12790  0.2069   \n",
            "3  11.42  20.38   77.58   386.1  0.14250  0.28390  0.2414  0.10520  0.2597   \n",
            "4  20.29  14.34  135.10  1297.0  0.10030  0.13280  0.1980  0.10430  0.1809   \n",
            "\n",
            "        9   ...     20     21      22      23      24      25      26      27  \\\n",
            "0  0.07871  ...  25.38  17.33  184.60  2019.0  0.1622  0.6656  0.7119  0.2654   \n",
            "1  0.05667  ...  24.99  23.41  158.80  1956.0  0.1238  0.1866  0.2416  0.1860   \n",
            "2  0.05999  ...  23.57  25.53  152.50  1709.0  0.1444  0.4245  0.4504  0.2430   \n",
            "3  0.09744  ...  14.91  26.50   98.87   567.7  0.2098  0.8663  0.6869  0.2575   \n",
            "4  0.05883  ...  22.54  16.67  152.20  1575.0  0.1374  0.2050  0.4000  0.1625   \n",
            "\n",
            "       28       29  \n",
            "0  0.4601  0.11890  \n",
            "1  0.2750  0.08902  \n",
            "2  0.3613  0.08758  \n",
            "3  0.6638  0.17300  \n",
            "4  0.2364  0.07678  \n",
            "\n",
            "[5 rows x 30 columns]\n"
          ]
        }
      ]
    },
    {
      "cell_type": "markdown",
      "source": [
        "Untuk menggunakan dataset breast cancer, kita memanggilnya menggunakan load_breast_cancer dan ditampung dalam variabel breast_cancer. "
      ],
      "metadata": {
        "id": "ltE2sq95EtJj"
      }
    },
    {
      "cell_type": "markdown",
      "source": [
        "Pre processing"
      ],
      "metadata": {
        "id": "0WMuR2O8E5wK"
      }
    },
    {
      "cell_type": "code",
      "source": [
        "breast_cancer_df.isnull().sum().sum()"
      ],
      "metadata": {
        "colab": {
          "base_uri": "https://localhost:8080/"
        },
        "id": "1D6bRy9VE4zR",
        "outputId": "e305d8d9-6dac-418c-8c67-474ef2816434"
      },
      "execution_count": null,
      "outputs": [
        {
          "output_type": "execute_result",
          "data": {
            "text/plain": [
              "0"
            ]
          },
          "metadata": {},
          "execution_count": 32
        }
      ]
    },
    {
      "cell_type": "markdown",
      "source": [
        "cek apakah dataset breast cancer bersifat null atau tidak. Dan hasilnya adalah 0 artinya tidak ada data yang bersifat null."
      ],
      "metadata": {
        "id": "GLjVkMRmFDfr"
      }
    },
    {
      "cell_type": "code",
      "source": [
        "breast_cancer_df.duplicated().sum()"
      ],
      "metadata": {
        "colab": {
          "base_uri": "https://localhost:8080/"
        },
        "id": "kBXdg4AKFIbz",
        "outputId": "4c423eec-570c-4917-a99a-d5afca2ecf38"
      },
      "execution_count": null,
      "outputs": [
        {
          "output_type": "execute_result",
          "data": {
            "text/plain": [
              "0"
            ]
          },
          "metadata": {},
          "execution_count": 33
        }
      ]
    },
    {
      "cell_type": "markdown",
      "source": [
        "cek apakah dataset breast cancer ada yang diduplikat atau tidak. Hasilnya adalah 0 yang berarti data tidak ada yang diduplikat."
      ],
      "metadata": {
        "id": "urMrpWvJFSOT"
      }
    },
    {
      "cell_type": "code",
      "source": [
        "x = breast_cancer.data\n",
        "y = breast_cancer.target"
      ],
      "metadata": {
        "id": "dsD-Y-rEFU47"
      },
      "execution_count": null,
      "outputs": []
    },
    {
      "cell_type": "markdown",
      "source": [
        "Definisikan variabel x dan y. variabel x didapatkan dari breast_cancer.data. Dan variabel y didapat dari breast_cancer.target"
      ],
      "metadata": {
        "id": "DiaKJ315FjKR"
      }
    },
    {
      "cell_type": "code",
      "source": [
        "y[:5]\n",
        "x[:5]\n",
        "\n",
        "x_train1, x_test1, y_train1, y_test1 = train_test_split(x,y, test_size=0.2, random_state=0)\n",
        "x_train2, x_test2, y_train2, y_test2 = train_test_split(x,y, test_size=0.3, random_state=0)\n",
        "x_train3, x_test3, y_train3, y_test3 = train_test_split(x,y, test_size=0.4, random_state=0)"
      ],
      "metadata": {
        "id": "QiLffd6ZFuFE"
      },
      "execution_count": null,
      "outputs": []
    },
    {
      "cell_type": "markdown",
      "source": [
        "Data pada variabel x dan y, diambil  sample datanya. Kemudian definisikan nilai dari x train, x test, y traindan y testnya. Sesuaikan perbandingannya pada test_size sesuai dengan soal yaitu 0.2, 0.3, 0.4."
      ],
      "metadata": {
        "id": "S0M46PYNFyCb"
      }
    },
    {
      "cell_type": "code",
      "source": [
        "sc = StandardScaler()\n",
        "\n",
        "sc.fit(x_train1)\n",
        "x_train_std1 = sc.transform(x_train1)\n",
        "x_test_std1 = sc.transform(x_test1)\n",
        "\n",
        "sc.fit(x_train2)\n",
        "x_train_std2 = sc.transform(x_train2)\n",
        "x_test_std2 = sc.transform(x_test2)\n",
        "\n",
        "sc.fit(x_train3)\n",
        "x_train_std3 = sc.transform(x_train3)\n",
        "x_test_std3 = sc.transform(x_test3)"
      ],
      "metadata": {
        "id": "FV06QVflF_3K"
      },
      "execution_count": null,
      "outputs": []
    },
    {
      "cell_type": "markdown",
      "source": [
        "Standard scaler ditampung pada variabel sc. Untuk mendapatkan nilai standard scaler pada x train dan x test kita bisa menggunakan sc.transform lalu masukkan variabel x train/xtestnya sesuai dengan perbandingan yang kita mau. "
      ],
      "metadata": {
        "id": "n2Yz6uYpGCdq"
      }
    },
    {
      "cell_type": "code",
      "source": [
        "ppn = Perceptron(eta0 = 0.1, random_state = 0)\n",
        "\n",
        "ppn.fit(x_train_std1, y_train1)\n",
        "y_pred1 = ppn.predict(x_test_std1)\n",
        "print('Accuracy test 0.2 : %.2f' % accuracy_score (y_test1, y_pred1))\n",
        "\n",
        "ppn.fit(x_train_std2, y_train2)\n",
        "y_pred2 = ppn.predict(x_test_std2)\n",
        "print('Accuracy test 0.3 : %.2f' % accuracy_score (y_test2, y_pred2))\n",
        "\n",
        "ppn.fit(x_train_std3, y_train3)\n",
        "y_pred3 = ppn.predict(x_test_std3)\n",
        "print('Accuracy test 0.4 : %.2f' % accuracy_score (y_test3, y_pred3))"
      ],
      "metadata": {
        "colab": {
          "base_uri": "https://localhost:8080/"
        },
        "id": "y-7th1xxGHpD",
        "outputId": "7c99b7c1-1ee4-46b9-afd9-66971232f413"
      },
      "execution_count": null,
      "outputs": [
        {
          "output_type": "stream",
          "name": "stdout",
          "text": [
            "Accuracy test 0.2 : 0.95\n",
            "Accuracy test 0.3 : 0.95\n",
            "Accuracy test 0.4 : 0.96\n"
          ]
        }
      ]
    },
    {
      "cell_type": "markdown",
      "source": [
        "Lalu untuk perceptron akan ditampung dalam variabel ppn. Lalu untuk mendapatkan predictionnya bisa memakai .predict dengan memasukkan x test std sesuai dengan perbandingan yang diinginkan. Untuk mendapatkan nilai prediksinya kita memakai variabel y test dan y pred sesuai dengan perbandingan yang digunakan. \n",
        "Setelah itu, saya mencoba untuk membandingkan, jika saya memakai sample data dan menggunakan semua data, hasilnya untuk test akurasinya, hasil yang dikeluarkan sama, yaitu untuk test akurasi 0.2 = 0.95, untuk test akurasi 0.3 = 0.95, untuk test akurasi 0.3 = 0.96."
      ],
      "metadata": {
        "id": "osVQSzTEGKaL"
      }
    },
    {
      "cell_type": "markdown",
      "source": [
        "# Bagging dengan base classifier perceptron (perbandingan test set 0.3 dan perbandingan n_estmators = 100,200, dan 300)"
      ],
      "metadata": {
        "id": "SJb-R75bG0DU"
      }
    },
    {
      "cell_type": "markdown",
      "source": [
        "WINE DATASET"
      ],
      "metadata": {
        "id": "tKVw79Z4HJW8"
      }
    },
    {
      "cell_type": "code",
      "source": [
        "wine = datasets.load_wine()\n",
        "\n",
        "x = wine.data\n",
        "y = wine.target"
      ],
      "metadata": {
        "id": "KITatprkHIyL"
      },
      "execution_count": null,
      "outputs": []
    },
    {
      "cell_type": "markdown",
      "source": [
        "Sama seperti proses sebelumnya, untuk menampilkan dataset wine, kita panggil datanya dengan menggunakan .load_wine. Lalu kita definisikan variabel x dan y. variabel x didapatkan dari wine.data dan variabel y didapatkan dari wine.target. "
      ],
      "metadata": {
        "id": "ydMWiYeDHnAa"
      }
    },
    {
      "cell_type": "code",
      "source": [
        "y[:5]\n",
        "x[:5]\n",
        "\n",
        "x_train, x_test, y_train, y_test = train_test_split(x,y, test_size=0.3, random_state=0)\n"
      ],
      "metadata": {
        "id": "QdlBDsTyIBhC"
      },
      "execution_count": null,
      "outputs": []
    },
    {
      "cell_type": "markdown",
      "source": [
        "Selanjutnya kita ambil 5 sample dari dataset wine. Lalu kita definiskan nilai dari x train, x test, y train dan y testnya. "
      ],
      "metadata": {
        "id": "S3QPRZqnIVyq"
      }
    },
    {
      "cell_type": "code",
      "source": [
        "sc = StandardScaler()\n",
        "\n",
        "sc.fit(x_train)\n",
        "x_train_std = sc.transform(x_train)\n",
        "x_test_std = sc.transform(x_test)"
      ],
      "metadata": {
        "id": "Rfq3UTOUIjas"
      },
      "execution_count": null,
      "outputs": []
    },
    {
      "cell_type": "markdown",
      "source": [
        "Standard scaler ditampung pada variabel sc. Untuk mendapatkan nilai standard scaler pada x train dan x test kita bisa menggunakan sc.transform lalu masukkan variabel x train/xtestnya."
      ],
      "metadata": {
        "id": "PJeJL9AEIvib"
      }
    },
    {
      "cell_type": "code",
      "source": [
        "ppn2 = Perceptron(eta0 = 0.1, random_state = 0)\n",
        "\n",
        "bc1 = BaggingClassifier(base_estimator=ppn2, n_estimators=100, n_jobs=-1)\n",
        "bc1.fit(x_train_std, y_train)\n",
        "y_pred1 = bc1.predict(x_test_std)\n",
        "acc1 = accuracy_score(y_test, y_pred1)\n",
        "print('Accuracy of Bagging Classifier Estimators 100: {:.3f}'.format(acc1))\n",
        "\n",
        "bc2 = BaggingClassifier(base_estimator=ppn2, n_estimators=200, n_jobs=-1)\n",
        "bc2.fit(x_train_std, y_train)\n",
        "y_pred2 = bc2.predict(x_test_std)\n",
        "acc2 = accuracy_score(y_test, y_pred2)\n",
        "print('Accuracy of Bagging Classifier Estimators 200: {:.3f}'.format(acc2))\n",
        "\n",
        "bc3 = BaggingClassifier(base_estimator=ppn2, n_estimators=300, n_jobs=-1)\n",
        "bc3.fit(x_train_std, y_train)\n",
        "y_pred3 = bc3.predict(x_test_std)\n",
        "acc3 = accuracy_score(y_test, y_pred3)\n",
        "print('Accuracy of Bagging Classifier Estimators 300: {:.3f}'.format(acc3))"
      ],
      "metadata": {
        "colab": {
          "base_uri": "https://localhost:8080/"
        },
        "id": "3icnCw0fIyUS",
        "outputId": "64d381d4-2cfa-4c8c-a079-77366ecb1848"
      },
      "execution_count": null,
      "outputs": [
        {
          "output_type": "stream",
          "name": "stderr",
          "text": [
            "/usr/local/lib/python3.10/dist-packages/sklearn/ensemble/_base.py:166: FutureWarning: `base_estimator` was renamed to `estimator` in version 1.2 and will be removed in 1.4.\n",
            "  warnings.warn(\n"
          ]
        },
        {
          "output_type": "stream",
          "name": "stdout",
          "text": [
            "Accuracy of Bagging Classifier Estimators 100: 1.000\n"
          ]
        },
        {
          "output_type": "stream",
          "name": "stderr",
          "text": [
            "/usr/local/lib/python3.10/dist-packages/sklearn/ensemble/_base.py:166: FutureWarning: `base_estimator` was renamed to `estimator` in version 1.2 and will be removed in 1.4.\n",
            "  warnings.warn(\n"
          ]
        },
        {
          "output_type": "stream",
          "name": "stdout",
          "text": [
            "Accuracy of Bagging Classifier Estimators 200: 1.000\n"
          ]
        },
        {
          "output_type": "stream",
          "name": "stderr",
          "text": [
            "/usr/local/lib/python3.10/dist-packages/sklearn/ensemble/_base.py:166: FutureWarning: `base_estimator` was renamed to `estimator` in version 1.2 and will be removed in 1.4.\n",
            "  warnings.warn(\n"
          ]
        },
        {
          "output_type": "stream",
          "name": "stdout",
          "text": [
            "Accuracy of Bagging Classifier Estimators 300: 1.000\n"
          ]
        }
      ]
    },
    {
      "cell_type": "markdown",
      "source": [
        "Lalu untuk perceptron kita buat dengan menggunakan eta = 0.1 dan random statenya 0 dan ditampung dlm variabel ppn2. Untuk mendapatkan nilai prediksinya, kita menggunakan x test std, dan untuk mendapatkan akurasi skornya kita menggunakan y test dan y pred sesuai dengan perbandingan yang digunakan. "
      ],
      "metadata": {
        "id": "rHGzYoz1LDkr"
      }
    },
    {
      "cell_type": "markdown",
      "source": [
        "BREAST CANCER"
      ],
      "metadata": {
        "id": "OTmmW_Q2L6Vn"
      }
    },
    {
      "cell_type": "code",
      "source": [
        "breast_cancer = datasets.load_breast_cancer()\n",
        "\n",
        "x = breast_cancer.data\n",
        "y = breast_cancer.target"
      ],
      "metadata": {
        "id": "_HU3EnRPL8GJ"
      },
      "execution_count": 50,
      "outputs": []
    },
    {
      "cell_type": "markdown",
      "source": [
        "Sama seperti proses sebelumnya, untuk menampilkan dataset breast, kita panggil datanya dengan menggunakan .load_breast_cancer. Lalu kita definisikan variabel x dan y. variabel x didapatkan dari breast_cancer.data dan variabel y didapatkan dari breast_cancer.target"
      ],
      "metadata": {
        "id": "SNEm4m60MW0i"
      }
    },
    {
      "cell_type": "code",
      "source": [
        "y[:5]\n",
        "x[:5]\n",
        "\n",
        "x_train, x_test, y_train, y_test = train_test_split(x,y, test_size=0.3, random_state=0)\n"
      ],
      "metadata": {
        "id": "wnbikT0eMhii"
      },
      "execution_count": 51,
      "outputs": []
    },
    {
      "cell_type": "markdown",
      "source": [
        "Selanjutnya kita ambil 5 sample dari dataset breast cancer. Lalu kita definiskan nilai dari x train, x test, y train dan y testnya. "
      ],
      "metadata": {
        "id": "wqg5g_ecNCJC"
      }
    },
    {
      "cell_type": "code",
      "source": [
        "sc = StandardScaler()\n",
        "\n",
        "sc.fit(x_train)\n",
        "x_train_std = sc.transform(x_train)\n",
        "x_test_std = sc.transform(x_test)"
      ],
      "metadata": {
        "id": "87zAUtsbMzVK"
      },
      "execution_count": 52,
      "outputs": []
    },
    {
      "cell_type": "markdown",
      "source": [
        "Standard scaler ditampung pada variabel sc. Untuk mendapatkan nilai standard scaler pada x train dan x test kita bisa menggunakan sc.transform lalu masukkan variabel x train/xtestnya."
      ],
      "metadata": {
        "id": "tM2RRxCKNGZy"
      }
    },
    {
      "cell_type": "code",
      "source": [
        "ppn2 = Perceptron(eta0 = 0.1, random_state = 0)\n",
        "\n",
        "bc1 = BaggingClassifier(base_estimator=ppn2, n_estimators=100, n_jobs=-1)\n",
        "bc1.fit(x_train_std, y_train)\n",
        "y_pred1 = bc1.predict(x_test_std)\n",
        "acc1 = accuracy_score(y_test, y_pred1)\n",
        "print('Accuracy of Bagging Classifier Estimators 100: {:.3f}'.format(acc1))\n",
        "\n",
        "bc2 = BaggingClassifier(base_estimator=ppn2, n_estimators=200, n_jobs=-1)\n",
        "bc2.fit(x_train_std, y_train)\n",
        "y_pred2 = bc2.predict(x_test_std)\n",
        "acc2 = accuracy_score(y_test, y_pred2)\n",
        "print('Accuracy of Bagging Classifier Estimators 200: {:.3f}'.format(acc2))\n",
        "\n",
        "bc3 = BaggingClassifier(base_estimator=ppn2, n_estimators=300, n_jobs=-1)\n",
        "bc3.fit(x_train_std, y_train)\n",
        "y_pred3 = bc3.predict(x_test_std)\n",
        "acc3 = accuracy_score(y_test, y_pred3)\n",
        "print('Accuracy of Bagging Classifier Estimators 300: {:.3f}'.format(acc3))"
      ],
      "metadata": {
        "colab": {
          "base_uri": "https://localhost:8080/"
        },
        "id": "2qcB8KaRNJIb",
        "outputId": "1dfcb53b-766c-404b-c339-5ee98ffbb544"
      },
      "execution_count": 61,
      "outputs": [
        {
          "output_type": "stream",
          "name": "stderr",
          "text": [
            "/usr/local/lib/python3.10/dist-packages/sklearn/ensemble/_base.py:166: FutureWarning: `base_estimator` was renamed to `estimator` in version 1.2 and will be removed in 1.4.\n",
            "  warnings.warn(\n"
          ]
        },
        {
          "output_type": "stream",
          "name": "stdout",
          "text": [
            "Accuracy of Bagging Classifier Estimators 100: 0.942\n"
          ]
        },
        {
          "output_type": "stream",
          "name": "stderr",
          "text": [
            "/usr/local/lib/python3.10/dist-packages/sklearn/ensemble/_base.py:166: FutureWarning: `base_estimator` was renamed to `estimator` in version 1.2 and will be removed in 1.4.\n",
            "  warnings.warn(\n"
          ]
        },
        {
          "output_type": "stream",
          "name": "stdout",
          "text": [
            "Accuracy of Bagging Classifier Estimators 200: 0.947\n"
          ]
        },
        {
          "output_type": "stream",
          "name": "stderr",
          "text": [
            "/usr/local/lib/python3.10/dist-packages/sklearn/ensemble/_base.py:166: FutureWarning: `base_estimator` was renamed to `estimator` in version 1.2 and will be removed in 1.4.\n",
            "  warnings.warn(\n"
          ]
        },
        {
          "output_type": "stream",
          "name": "stdout",
          "text": [
            "Accuracy of Bagging Classifier Estimators 300: 0.947\n"
          ]
        }
      ]
    },
    {
      "cell_type": "markdown",
      "source": [
        "Lalu untuk perceptron kita buat dengan menggunakan eta = 0.1 dan random statenya 0 dan ditampung dlm variabel ppn2. Untuk mendapatkan nilai prediksinya, kita menggunakan x test std, dan untuk mendapatkan akurasi skornya kita menggunakan y test dan y pred sesuai dengan perbandingan yang digunakan. "
      ],
      "metadata": {
        "id": "k05jBWUoNQFK"
      }
    }
  ]
}